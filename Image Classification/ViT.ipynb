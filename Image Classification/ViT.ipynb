{
  "nbformat": 4,
  "nbformat_minor": 0,
  "metadata": {
    "colab": {
      "provenance": [],
      "gpuType": "T4"
    },
    "kernelspec": {
      "name": "python3",
      "display_name": "Python 3"
    },
    "language_info": {
      "name": "python"
    },
    "accelerator": "GPU"
  },
  "cells": [
    {
      "cell_type": "code",
      "execution_count": 22,
      "metadata": {
        "id": "8gWkJ2VqiJhC"
      },
      "outputs": [],
      "source": [
        "# 1.1 Importing Libraries\n",
        "import os\n",
        "import numpy as np\n",
        "from datasets import load_dataset\n",
        "from transformers import ViTImageProcessor, ViTForImageClassification, TrainingArguments, Trainer\n",
        "from torchvision.transforms import Compose, Normalize, Resize, ToTensor, RandomHorizontalFlip\n",
        "import torch\n",
        "from torch.utils.data import DataLoader\n",
        "from sklearn.metrics import accuracy_score"
      ]
    },
    {
      "cell_type": "code",
      "source": [
        "# 1.2 Setting up Device\n",
        "\n",
        "# Enable anomaly detection to track in-place operation errors\n",
        "torch.autograd.set_detect_anomaly(True)\n",
        "\n",
        "# Ensure that the results directory exists\n",
        "os.makedirs(\"./results\", exist_ok=True)\n",
        "\n",
        "# Check for GPU\n",
        "device = torch.device(\"cuda\" if torch.cuda.is_available() else \"cpu\")\n",
        "print(f\"Using device: {device}\")"
      ],
      "metadata": {
        "colab": {
          "base_uri": "https://localhost:8080/"
        },
        "id": "FoSPanR2i7sN",
        "outputId": "c41f6a1c-acc8-4cd2-f89a-1a502e8d4465"
      },
      "execution_count": 23,
      "outputs": [
        {
          "output_type": "stream",
          "name": "stdout",
          "text": [
            "Using device: cuda\n"
          ]
        }
      ]
    },
    {
      "cell_type": "code",
      "source": [
        "# 1.3 Data Loading and Preprocessing\n",
        "train_ds = load_dataset('ceyda/fashion-products-small')\n",
        "train_ds = train_ds['train'].train_test_split(test_size=0.15)\n",
        "\n",
        "train_data = train_ds['train']\n",
        "test_data = train_ds['test']\n",
        "\n",
        "# Create mappings from label to ID and vice versa\n",
        "label = list(set(train_data['masterCategory']))\n",
        "id2label = {i: label for i, label in enumerate(label)}\n",
        "label2id = {label: i for i, label in id2label.items()}\n",
        "\n",
        "# Initialize the Vision Transformer (ViT) processor\n",
        "processor = ViTImageProcessor.from_pretrained(\"google/vit-base-patch16-224-in21k\")\n",
        "image_mean, image_std = processor.image_mean, processor.image_std\n",
        "size = processor.size[\"height\"]\n",
        "\n",
        "# Define image transformations for training and validation sets\n",
        "_train_transforms = Compose([\n",
        "    Resize((size, size)),\n",
        "    RandomHorizontalFlip(),\n",
        "    ToTensor(),\n",
        "    Normalize(mean=image_mean, std=image_std),\n",
        "])\n",
        "\n",
        "_val_transforms = Compose([\n",
        "    Resize((size, size)),\n",
        "    ToTensor(),\n",
        "    Normalize(mean=image_mean, std=image_std),\n",
        "])\n",
        "\n",
        "# Functions to apply transformations\n",
        "def train_transforms(examples):\n",
        "    examples['pixel_values'] = [_train_transforms(image) for image in examples['image']]\n",
        "    return examples\n",
        "\n",
        "def val_transforms(examples):\n",
        "    examples['pixel_values'] = [_val_transforms(image) for image in examples['image']]\n",
        "    return examples\n",
        "\n",
        "# Apply transformations to the datasets\n",
        "train_data.set_transform(train_transforms)\n",
        "test_data.set_transform(val_transforms)\n",
        "\n",
        "# Custom collate function to handle batches\n",
        "def collate_fn(examples):\n",
        "    pixel_values = torch.stack([example[\"pixel_values\"] for example in examples])\n",
        "    labels = torch.tensor([label2id[example[\"masterCategory\"]] for example in examples])\n",
        "    return {\"pixel_values\": pixel_values, \"labels\": labels}\n",
        "\n",
        "# Create DataLoaders for training and testing\n",
        "train_dataloader = DataLoader(train_data, collate_fn=collate_fn, batch_size=4)\n",
        "test_dataloader = DataLoader(test_data, collate_fn=collate_fn, batch_size=4)"
      ],
      "metadata": {
        "colab": {
          "base_uri": "https://localhost:8080/"
        },
        "id": "cEBenEIdi-c_",
        "outputId": "2ab5240b-259e-4fd1-9fb3-319676162950"
      },
      "execution_count": 24,
      "outputs": [
        {
          "output_type": "stream",
          "name": "stderr",
          "text": [
            "Repo card metadata block was not found. Setting CardData to empty.\n",
            "WARNING:huggingface_hub.repocard:Repo card metadata block was not found. Setting CardData to empty.\n"
          ]
        }
      ]
    },
    {
      "cell_type": "code",
      "source": [
        "# 1.4 Model Definition\n",
        "model = ViTForImageClassification.from_pretrained(\n",
        "    'google/vit-base-patch16-224-in21k',\n",
        "    id2label=id2label,\n",
        "    label2id=label2id\n",
        ")"
      ],
      "metadata": {
        "colab": {
          "base_uri": "https://localhost:8080/"
        },
        "id": "7Vg1lHT1jBff",
        "outputId": "ab61514c-1af2-4383-ad6d-ff14febb1fd2"
      },
      "execution_count": 25,
      "outputs": [
        {
          "output_type": "stream",
          "name": "stderr",
          "text": [
            "Some weights of ViTForImageClassification were not initialized from the model checkpoint at google/vit-base-patch16-224-in21k and are newly initialized: ['classifier.bias', 'classifier.weight']\n",
            "You should probably TRAIN this model on a down-stream task to be able to use it for predictions and inference.\n"
          ]
        }
      ]
    },
    {
      "cell_type": "code",
      "source": [
        "# 1.5 Optimizer and Training Arguments\n",
        "args = TrainingArguments(\n",
        "    \"Fashion-Product-Images\",\n",
        "    save_strategy=\"epoch\",\n",
        "    evaluation_strategy=\"epoch\",\n",
        "    learning_rate=2e-5,\n",
        "    per_device_train_batch_size=32,\n",
        "    per_device_eval_batch_size=4,\n",
        "    num_train_epochs=3,\n",
        "    weight_decay=0.01,\n",
        "    load_best_model_at_end=True,\n",
        "    metric_for_best_model=\"accuracy\",\n",
        "    logging_dir='logs',\n",
        "    remove_unused_columns=False,\n",
        ")"
      ],
      "metadata": {
        "colab": {
          "base_uri": "https://localhost:8080/"
        },
        "id": "PAzjspT2jDcs",
        "outputId": "3e559f50-382c-4964-c3d1-731f7cb49ad6"
      },
      "execution_count": 26,
      "outputs": [
        {
          "output_type": "stream",
          "name": "stderr",
          "text": [
            "/usr/local/lib/python3.10/dist-packages/transformers/training_args.py:1525: FutureWarning: `evaluation_strategy` is deprecated and will be removed in version 4.46 of 🤗 Transformers. Use `eval_strategy` instead\n",
            "  warnings.warn(\n"
          ]
        }
      ]
    },
    {
      "cell_type": "code",
      "source": [
        "# 1.6 Training Loop\n",
        "def compute_metrics(eval_pred):\n",
        "    logits, labels = eval_pred\n",
        "    # Convert logits and labels to tensors if they are numpy arrays\n",
        "    if isinstance(logits, np.ndarray):\n",
        "        logits = torch.tensor(logits)\n",
        "    if isinstance(labels, np.ndarray):\n",
        "        labels = torch.tensor(labels)\n",
        "    predictions = torch.argmax(logits, dim=-1)\n",
        "    accuracy = accuracy_score(labels, predictions)\n",
        "    return {\"accuracy\": accuracy}\n",
        "\n",
        "trainer = Trainer(\n",
        "    model,\n",
        "    args,\n",
        "    train_dataset=train_data,\n",
        "    eval_dataset=test_data,\n",
        "    data_collator=collate_fn,\n",
        "    compute_metrics=compute_metrics,\n",
        ")\n",
        "\n",
        "trainer.train()"
      ],
      "metadata": {
        "colab": {
          "base_uri": "https://localhost:8080/",
          "height": 280
        },
        "id": "Z_FLK-N2jFwM",
        "outputId": "e5a79c2b-294e-4977-85a0-8fc60cad5325"
      },
      "execution_count": 27,
      "outputs": [
        {
          "data": {
            "text/html": [
              "\n",
              "    <div>\n",
              "      \n",
              "      <progress value='1022' max='3405' style='width:300px; height:20px; vertical-align: middle;'></progress>\n",
              "      [1022/3405 21:33 < 50:21, 0.79 it/s, Epoch 0.90/3]\n",
              "    </div>\n",
              "    <table border=\"1\" class=\"dataframe\">\n",
              "  <thead>\n",
              " <tr style=\"text-align: left;\">\n",
              "      <th>Epoch</th>\n",
              "      <th>Training Loss</th>\n",
              "      <th>Validation Loss</th>\n",
              "    </tr>\n",
              "  </thead>\n",
              "  <tbody>\n",
              "  </tbody>\n",
              "</table><p>"
            ],
            "text/plain": [
              "<IPython.core.display.HTML object>"
            ]
          },
          "metadata": {},
          "output_type": "display_data"
        },
        {
          "output_type": "display_data",
          "data": {
            "text/plain": [
              "<IPython.core.display.HTML object>"
            ],
            "text/html": [
              "\n",
              "    <div>\n",
              "      \n",
              "      <progress value='3405' max='3405' style='width:300px; height:20px; vertical-align: middle;'></progress>\n",
              "      [3405/3405 1:18:26, Epoch 3/3]\n",
              "    </div>\n",
              "    <table border=\"1\" class=\"dataframe\">\n",
              "  <thead>\n",
              " <tr style=\"text-align: left;\">\n",
              "      <th>Epoch</th>\n",
              "      <th>Training Loss</th>\n",
              "      <th>Validation Loss</th>\n",
              "      <th>Accuracy</th>\n",
              "    </tr>\n",
              "  </thead>\n",
              "  <tbody>\n",
              "    <tr>\n",
              "      <td>1</td>\n",
              "      <td>0.089900</td>\n",
              "      <td>0.069260</td>\n",
              "      <td>0.990945</td>\n",
              "    </tr>\n",
              "    <tr>\n",
              "      <td>2</td>\n",
              "      <td>0.043100</td>\n",
              "      <td>0.048060</td>\n",
              "      <td>0.992818</td>\n",
              "    </tr>\n",
              "    <tr>\n",
              "      <td>3</td>\n",
              "      <td>0.033600</td>\n",
              "      <td>0.044878</td>\n",
              "      <td>0.992974</td>\n",
              "    </tr>\n",
              "  </tbody>\n",
              "</table><p>"
            ]
          },
          "metadata": {}
        },
        {
          "output_type": "execute_result",
          "data": {
            "text/plain": [
              "TrainOutput(global_step=3405, training_loss=0.08603067496099485, metrics={'train_runtime': 4707.896, 'train_samples_per_second': 23.128, 'train_steps_per_second': 0.723, 'total_flos': 8.43809341205118e+18, 'train_loss': 0.08603067496099485, 'epoch': 3.0})"
            ]
          },
          "metadata": {},
          "execution_count": 27
        }
      ]
    },
    {
      "cell_type": "code",
      "source": [
        "# 1.7 Save and Evaluate Results\n",
        "outputs = trainer.predict(test_data)\n",
        "print(outputs.metrics)\n",
        "torch.save(model.state_dict(), \"./results/vit_model.pth\")"
      ],
      "metadata": {
        "id": "Pwn25QRsjHYE",
        "colab": {
          "base_uri": "https://localhost:8080/",
          "height": 54
        },
        "outputId": "5a43810e-decb-4d84-91cd-44876d2c75a5"
      },
      "execution_count": 28,
      "outputs": [
        {
          "output_type": "display_data",
          "data": {
            "text/plain": [
              "<IPython.core.display.HTML object>"
            ],
            "text/html": []
          },
          "metadata": {}
        },
        {
          "output_type": "stream",
          "name": "stdout",
          "text": [
            "{'test_loss': 0.04487843066453934, 'test_accuracy': 0.9929742388758782, 'test_runtime': 94.0639, 'test_samples_per_second': 68.092, 'test_steps_per_second': 17.031}\n"
          ]
        }
      ]
    }
  ]
}